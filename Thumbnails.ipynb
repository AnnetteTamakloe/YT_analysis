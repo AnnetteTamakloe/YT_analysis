{
 "cells": [
  {
   "cell_type": "code",
   "execution_count": 33,
   "id": "37ec2404-0775-4d59-9c3e-3971d0951a49",
   "metadata": {
    "tags": []
   },
   "outputs": [
    {
     "name": "stdout",
     "output_type": "stream",
     "text": [
      "Requirement already satisfied: webdriver-manager in /opt/anaconda3/lib/python3.9/site-packages (3.8.5)\n",
      "Collecting webdriver-manager\n",
      "  Downloading webdriver_manager-4.0.0-py2.py3-none-any.whl (27 kB)\n",
      "Requirement already satisfied: packaging in /opt/anaconda3/lib/python3.9/site-packages (from webdriver-manager) (23.0)\n",
      "Requirement already satisfied: requests in /opt/anaconda3/lib/python3.9/site-packages (from webdriver-manager) (2.28.1)\n",
      "Requirement already satisfied: python-dotenv in /opt/anaconda3/lib/python3.9/site-packages (from webdriver-manager) (1.0.0)\n",
      "Requirement already satisfied: certifi>=2017.4.17 in /opt/anaconda3/lib/python3.9/site-packages (from requests->webdriver-manager) (2023.7.22)\n",
      "Requirement already satisfied: urllib3<1.27,>=1.21.1 in /opt/anaconda3/lib/python3.9/site-packages (from requests->webdriver-manager) (1.26.15)\n",
      "Requirement already satisfied: idna<4,>=2.5 in /opt/anaconda3/lib/python3.9/site-packages (from requests->webdriver-manager) (3.4)\n",
      "Requirement already satisfied: charset-normalizer<3,>=2 in /opt/anaconda3/lib/python3.9/site-packages (from requests->webdriver-manager) (2.0.4)\n",
      "Installing collected packages: webdriver-manager\n",
      "  Attempting uninstall: webdriver-manager\n",
      "    Found existing installation: webdriver-manager 3.8.5\n",
      "    Uninstalling webdriver-manager-3.8.5:\n",
      "      Successfully uninstalled webdriver-manager-3.8.5\n",
      "Successfully installed webdriver-manager-4.0.0\n",
      "Requirement already satisfied: packaging in /opt/anaconda3/lib/python3.9/site-packages (23.0)\n"
     ]
    }
   ],
   "source": [
    "#!pip install webdriver-manager --upgrade\n",
    "#!pip install packaging\n",
    "#!pip install -U selenium==4.11.2"
   ]
  },
  {
   "cell_type": "code",
   "execution_count": 37,
   "id": "ea94f386-40a0-4c9c-a333-4e16b62949b8",
   "metadata": {
    "tags": []
   },
   "outputs": [],
   "source": [
    "from selenium import webdriver\n",
    "import time\n",
    "import pandas as pd\n",
    "from selenium.webdriver.common.by import By\n",
    "from selenium.webdriver.common.keys import Keys\n",
    "\n",
    "pd.set_option('display.max_columns', None)\n",
    "pd.set_option('display.max_rows', None)\n",
    "\n",
    "driver = webdriver.Chrome()\n",
    "driver.get(\"https://www.youtube.com/@ColeHastings/videos\")\n",
    "\n",
    "scroll_pause_time = 2  # Reduce the pause time for faster scrolling\n",
    "scroll_increment = 3  # Number of scroll steps in one go\n",
    "\n",
    "# Scroll to the bottom of the page\n",
    "while True:\n",
    "    for _ in range(scroll_increment):\n",
    "        driver.find_element(By.TAG_NAME, 'body').send_keys(Keys.PAGE_DOWN)\n",
    "        time.sleep(0.5)  # Short pause between each scroll step\n",
    "\n",
    "    time.sleep(scroll_pause_time)\n",
    "    \n",
    "    new_height = driver.execute_script('return document.documentElement.scrollHeight')\n",
    "    \n",
    "    if new_height == last_height:\n",
    "        break\n",
    "    \n",
    "    last_height = new_height\n",
    "\n",
    "titles = driver.find_elements(By.ID, \"video-title\")\n",
    "images = driver.find_elements(By.XPATH, '//a[@id=\"thumbnail\"]/yt-image/img')\n",
    "data = []\n",
    "\n",
    "for i, j in zip(titles, images):\n",
    "    data.append([i.text, j.get_attribute('src')])\n",
    "\n",
    "df = pd.DataFrame(data, columns=['title', 'thumbnail'])\n",
    "\n",
    "driver.quit()\n"
   ]
  },
  {
   "cell_type": "code",
   "execution_count": 38,
   "id": "d83a223f-055c-4943-bb0c-1cac3d6ea853",
   "metadata": {
    "tags": []
   },
   "outputs": [
    {
     "data": {
      "text/html": [
       "<div>\n",
       "<style scoped>\n",
       "    .dataframe tbody tr th:only-of-type {\n",
       "        vertical-align: middle;\n",
       "    }\n",
       "\n",
       "    .dataframe tbody tr th {\n",
       "        vertical-align: top;\n",
       "    }\n",
       "\n",
       "    .dataframe thead th {\n",
       "        text-align: right;\n",
       "    }\n",
       "</style>\n",
       "<table border=\"1\" class=\"dataframe\">\n",
       "  <thead>\n",
       "    <tr style=\"text-align: right;\">\n",
       "      <th></th>\n",
       "      <th>title</th>\n",
       "      <th>thumbnail</th>\n",
       "    </tr>\n",
       "  </thead>\n",
       "  <tbody>\n",
       "    <tr>\n",
       "      <th>0</th>\n",
       "      <td>The Evolution Of Masculinity: Why It’s So Hard...</td>\n",
       "      <td>https://i.ytimg.com/vi/KZX_ucn3Dvk/hqdefault.j...</td>\n",
       "    </tr>\n",
       "    <tr>\n",
       "      <th>1</th>\n",
       "      <td>5 Things I Wish I Knew At 20</td>\n",
       "      <td>https://i.ytimg.com/vi/98PEQwphc4Y/hqdefault.j...</td>\n",
       "    </tr>\n",
       "    <tr>\n",
       "      <th>2</th>\n",
       "      <td>How Modern Society Keeps You Submissive And Co...</td>\n",
       "      <td>https://i.ytimg.com/vi/dNIpeC-44wA/hqdefault.j...</td>\n",
       "    </tr>\n",
       "    <tr>\n",
       "      <th>3</th>\n",
       "      <td>Why Everyone Treats You Like A Ghost</td>\n",
       "      <td>https://i.ytimg.com/vi/wTxmTlMMuhU/hqdefault.j...</td>\n",
       "    </tr>\n",
       "    <tr>\n",
       "      <th>4</th>\n",
       "      <td>What 5 Hours Of Doomscrolling Does To Your Brain</td>\n",
       "      <td>https://i.ytimg.com/vi/Ps0MW3xTb3Y/hqdefault.j...</td>\n",
       "    </tr>\n",
       "    <tr>\n",
       "      <th>5</th>\n",
       "      <td>How To Stop Being A Slave To Meaningless Pleas...</td>\n",
       "      <td>https://i.ytimg.com/vi/qDUjclZBYEw/hqdefault.j...</td>\n",
       "    </tr>\n",
       "    <tr>\n",
       "      <th>6</th>\n",
       "      <td>The Negative Cycle You're In, Ends Today</td>\n",
       "      <td>https://i.ytimg.com/vi/D4RfwsxDC-M/hqdefault.j...</td>\n",
       "    </tr>\n",
       "    <tr>\n",
       "      <th>7</th>\n",
       "      <td>Why You Fall In Love So Easily</td>\n",
       "      <td>https://i.ytimg.com/vi/qKwRmsEgfg8/hqdefault.j...</td>\n",
       "    </tr>\n",
       "    <tr>\n",
       "      <th>8</th>\n",
       "      <td>Stop Trying To Be A “High Value Man”</td>\n",
       "      <td>https://i.ytimg.com/vi/aVWdF1XSCD4/hqdefault.j...</td>\n",
       "    </tr>\n",
       "    <tr>\n",
       "      <th>9</th>\n",
       "      <td>How To Stop Wasting Your Life</td>\n",
       "      <td>https://i.ytimg.com/vi/Q6uk5NL0O8Q/hqdefault.j...</td>\n",
       "    </tr>\n",
       "    <tr>\n",
       "      <th>10</th>\n",
       "      <td>What To Do If Nothing Makes You Happy Anymore</td>\n",
       "      <td>https://i.ytimg.com/vi/2Hu27xr06VI/hqdefault.j...</td>\n",
       "    </tr>\n",
       "    <tr>\n",
       "      <th>11</th>\n",
       "      <td>I Was Wrong About Incels</td>\n",
       "      <td>https://i.ytimg.com/vi/skPhR7xAY7Y/hqdefault.j...</td>\n",
       "    </tr>\n",
       "    <tr>\n",
       "      <th>12</th>\n",
       "      <td>Why I Choose To Live A Boring Life</td>\n",
       "      <td>https://i.ytimg.com/vi/Updz2RS-lR8/hqdefault.j...</td>\n",
       "    </tr>\n",
       "    <tr>\n",
       "      <th>13</th>\n",
       "      <td>Stoicism’s Major Flaw</td>\n",
       "      <td>https://i.ytimg.com/vi/16VOKbA3OAg/hqdefault.j...</td>\n",
       "    </tr>\n",
       "    <tr>\n",
       "      <th>14</th>\n",
       "      <td>How To Overcome Self Improvement Loneliness</td>\n",
       "      <td>https://i.ytimg.com/vi/OvoWHL6giSM/hqdefault.j...</td>\n",
       "    </tr>\n",
       "    <tr>\n",
       "      <th>15</th>\n",
       "      <td>Don’t Try To Get Results, And You’ll Get Them</td>\n",
       "      <td>https://i.ytimg.com/vi/Wyo1fKLhi-Q/hqdefault.j...</td>\n",
       "    </tr>\n",
       "    <tr>\n",
       "      <th>16</th>\n",
       "      <td>Why You Should Cope Harder</td>\n",
       "      <td>https://i.ytimg.com/vi/XRhfid73v20/hqdefault.j...</td>\n",
       "    </tr>\n",
       "    <tr>\n",
       "      <th>17</th>\n",
       "      <td>Why Everyone Feels So Fake To You</td>\n",
       "      <td>https://i.ytimg.com/vi/g2rKksAaQec/hqdefault.j...</td>\n",
       "    </tr>\n",
       "    <tr>\n",
       "      <th>18</th>\n",
       "      <td>It's Going To Get Worse Before It Gets Better</td>\n",
       "      <td>https://i.ytimg.com/vi/tDgstxYNnes/hqdefault.j...</td>\n",
       "    </tr>\n",
       "    <tr>\n",
       "      <th>19</th>\n",
       "      <td>Romanticizing Depression: How Gen Z Aesthetici...</td>\n",
       "      <td>https://i.ytimg.com/vi/JTgZABCN00o/hqdefault.j...</td>\n",
       "    </tr>\n",
       "  </tbody>\n",
       "</table>\n",
       "</div>"
      ],
      "text/plain": [
       "                                                title   \n",
       "0   The Evolution Of Masculinity: Why It’s So Hard...  \\\n",
       "1                        5 Things I Wish I Knew At 20   \n",
       "2   How Modern Society Keeps You Submissive And Co...   \n",
       "3                Why Everyone Treats You Like A Ghost   \n",
       "4    What 5 Hours Of Doomscrolling Does To Your Brain   \n",
       "5   How To Stop Being A Slave To Meaningless Pleas...   \n",
       "6            The Negative Cycle You're In, Ends Today   \n",
       "7                      Why You Fall In Love So Easily   \n",
       "8                Stop Trying To Be A “High Value Man”   \n",
       "9                       How To Stop Wasting Your Life   \n",
       "10      What To Do If Nothing Makes You Happy Anymore   \n",
       "11                           I Was Wrong About Incels   \n",
       "12                 Why I Choose To Live A Boring Life   \n",
       "13                              Stoicism’s Major Flaw   \n",
       "14        How To Overcome Self Improvement Loneliness   \n",
       "15      Don’t Try To Get Results, And You’ll Get Them   \n",
       "16                         Why You Should Cope Harder   \n",
       "17                  Why Everyone Feels So Fake To You   \n",
       "18      It's Going To Get Worse Before It Gets Better   \n",
       "19  Romanticizing Depression: How Gen Z Aesthetici...   \n",
       "\n",
       "                                            thumbnail  \n",
       "0   https://i.ytimg.com/vi/KZX_ucn3Dvk/hqdefault.j...  \n",
       "1   https://i.ytimg.com/vi/98PEQwphc4Y/hqdefault.j...  \n",
       "2   https://i.ytimg.com/vi/dNIpeC-44wA/hqdefault.j...  \n",
       "3   https://i.ytimg.com/vi/wTxmTlMMuhU/hqdefault.j...  \n",
       "4   https://i.ytimg.com/vi/Ps0MW3xTb3Y/hqdefault.j...  \n",
       "5   https://i.ytimg.com/vi/qDUjclZBYEw/hqdefault.j...  \n",
       "6   https://i.ytimg.com/vi/D4RfwsxDC-M/hqdefault.j...  \n",
       "7   https://i.ytimg.com/vi/qKwRmsEgfg8/hqdefault.j...  \n",
       "8   https://i.ytimg.com/vi/aVWdF1XSCD4/hqdefault.j...  \n",
       "9   https://i.ytimg.com/vi/Q6uk5NL0O8Q/hqdefault.j...  \n",
       "10  https://i.ytimg.com/vi/2Hu27xr06VI/hqdefault.j...  \n",
       "11  https://i.ytimg.com/vi/skPhR7xAY7Y/hqdefault.j...  \n",
       "12  https://i.ytimg.com/vi/Updz2RS-lR8/hqdefault.j...  \n",
       "13  https://i.ytimg.com/vi/16VOKbA3OAg/hqdefault.j...  \n",
       "14  https://i.ytimg.com/vi/OvoWHL6giSM/hqdefault.j...  \n",
       "15  https://i.ytimg.com/vi/Wyo1fKLhi-Q/hqdefault.j...  \n",
       "16  https://i.ytimg.com/vi/XRhfid73v20/hqdefault.j...  \n",
       "17  https://i.ytimg.com/vi/g2rKksAaQec/hqdefault.j...  \n",
       "18  https://i.ytimg.com/vi/tDgstxYNnes/hqdefault.j...  \n",
       "19  https://i.ytimg.com/vi/JTgZABCN00o/hqdefault.j...  "
      ]
     },
     "execution_count": 38,
     "metadata": {},
     "output_type": "execute_result"
    }
   ],
   "source": [
    "df.head(20)"
   ]
  },
  {
   "cell_type": "code",
   "execution_count": 40,
   "id": "93bacb50-3db7-4589-a26c-d5ae1302d617",
   "metadata": {
    "tags": []
   },
   "outputs": [
    {
     "name": "stdout",
     "output_type": "stream",
     "text": [
      "count none values:0\n"
     ]
    }
   ],
   "source": [
    "count = df['thumbnail'].isna().sum()\n",
    "print(f'count none values:{count}')"
   ]
  },
  {
   "cell_type": "code",
   "execution_count": 43,
   "id": "3713dd97-14a5-435f-82db-7e36f508efc9",
   "metadata": {
    "tags": []
   },
   "outputs": [
    {
     "name": "stdout",
     "output_type": "stream",
     "text": [
      "Contents of cell: https://i.ytimg.com/vi/qDUjclZBYEw/hqdefault.jpg?sqp=-oaymwEcCNACELwBSFXyq4qpAw4IARUAAIhCGAFwAcABBg==&rs=AOn4CLDkla9-MIq1ru8ectJsA7CINUa3rg\n"
     ]
    }
   ],
   "source": [
    "cell_value = df.at[5, 'thumbnail']\n",
    "print(\"Contents of cell:\", cell_value)"
   ]
  },
  {
   "cell_type": "code",
   "execution_count": 44,
   "id": "5822a8ea-c62a-47f9-bfc9-0af934c5a867",
   "metadata": {
    "tags": []
   },
   "outputs": [],
   "source": [
    "import os\n",
    "import requests\n",
    "\n",
    "# Create a folder to save the thumbnails\n",
    "if not os.path.exists('thumbnails'):\n",
    "    os.mkdir('thumbnails')\n",
    "\n",
    "# Assuming you already have a DataFrame named 'df' with 'title' and 'thumbnail' columns\n",
    "for index, row in df.iterrows():\n",
    "    title = row['title']\n",
    "    thumbnail_url = row['thumbnail']\n",
    "    \n",
    "    # Replace invalid characters in the title to create a valid filename\n",
    "    filename = re.sub(r'[\\/:*?\"<>|]', '', title) + '.jpg'\n",
    "    filepath = os.path.join('thumbnails', filename)\n",
    "    \n",
    "    # Download the thumbnail\n",
    "    response = requests.get(thumbnail_url)\n",
    "    if response.status_code == 200:\n",
    "        with open(filepath, 'wb') as file:\n",
    "            file.write(response.content)\n"
   ]
  },
  {
   "cell_type": "code",
   "execution_count": null,
   "id": "b6eae216-e01b-40e3-b7ea-2cbe4fd9976f",
   "metadata": {},
   "outputs": [],
   "source": []
  }
 ],
 "metadata": {
  "kernelspec": {
   "display_name": "Python 3 (ipykernel)",
   "language": "python",
   "name": "python3"
  },
  "language_info": {
   "codemirror_mode": {
    "name": "ipython",
    "version": 3
   },
   "file_extension": ".py",
   "mimetype": "text/x-python",
   "name": "python",
   "nbconvert_exporter": "python",
   "pygments_lexer": "ipython3",
   "version": "3.9.13"
  }
 },
 "nbformat": 4,
 "nbformat_minor": 5
}
